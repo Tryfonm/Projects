{
 "cells": [
  {
   "cell_type": "code",
   "execution_count": 1,
   "metadata": {
    "collapsed": true
   },
   "outputs": [],
   "source": [
    "from pytorch__my_vgg import Vgg\n",
    "from tqdm import trange\n",
    "import torch\n",
    "import torch.nn as nn\n",
    "from torchvision import datasets, transforms\n",
    "from matplotlib import pyplot as plt\n",
    "%matplotlib inline\n",
    "device = torch.device('cuda' if torch.cuda.is_available() else 'cpu')"
   ]
  },
  {
   "cell_type": "code",
   "execution_count": 2,
   "outputs": [],
   "source": [
    "# ==================== Define Model ==================== #\n",
    "model = Vgg(num_classes=10, custom_vgg=[1, 16, 64, 'P', 128, 256, 'P']).to(device)\n",
    "optimizer = torch.optim.Adam(model.parameters())\n",
    "criterion = nn.CrossEntropyLoss()\n",
    "max_epochs = 5"
   ],
   "metadata": {
    "collapsed": false,
    "pycharm": {
     "name": "#%%\n"
    }
   }
  },
  {
   "cell_type": "code",
   "execution_count": 3,
   "outputs": [],
   "source": [
    "# ==================== Load Mnist ==================== #\n",
    "\n",
    "batch_size = 64\n",
    "\n",
    "train_dataset = datasets.MNIST(root='./', download=True, train=True, transform=transforms.ToTensor())\n",
    "test_dataset = datasets.MNIST(root='./', download=True, train=False, transform=transforms.ToTensor())\n",
    "\n",
    "x_train = train_dataset.data.float()\n",
    "y_train = train_dataset.targets\n",
    "y_train_ohe = torch.nn.functional.one_hot(y_train)\n",
    "\n",
    "train_dl = torch.utils.data.DataLoader(dataset=train_dataset, batch_size=batch_size)\n",
    "test_dl = torch.utils.data.DataLoader(dataset=test_dataset, batch_size=batch_size)"
   ],
   "metadata": {
    "collapsed": false,
    "pycharm": {
     "name": "#%%\n"
    }
   }
  },
  {
   "cell_type": "code",
   "execution_count": 4,
   "outputs": [
    {
     "name": "stderr",
     "output_type": "stream",
     "text": [
      "Epoch: 5/5, batch: 937 /938 -  Train loss: 0.0001 | Train acc: 100.00% | Test acc: 100.00%: 100%|██████████████████████| 5/5 [11:14<00:00, 134.82s/it]\n"
     ]
    }
   ],
   "source": [
    "# ==================== Load Mnist ==================== #\n",
    "\n",
    "test_acc = 0  # this one is not appended - it's just used as a starting point for t.set_description\n",
    "training_losses = []\n",
    "train_accuracies = []\n",
    "test_accuracies = []\n",
    "\n",
    "for i in (t := trange(max_epochs, ncols=150)):\n",
    "    running_loss = 0\n",
    "    running_train_acc = 0\n",
    "    running_test_acc = 0\n",
    "    for batch_index, (images, labels) in enumerate(train_dl):\n",
    "        images = images.to(device)\n",
    "        labels = labels.to(device)\n",
    "\n",
    "        outputs = model(images)\n",
    "        predicted_class = torch.argmax(outputs, dim=1)\n",
    "        train_acc = (predicted_class == labels).float().mean()\n",
    "\n",
    "        model.zero_grad()\n",
    "        loss = criterion(outputs, labels)\n",
    "        loss.backward()\n",
    "        training_losses.append(loss.item())\n",
    "\n",
    "        optimizer.step()\n",
    "\n",
    "        t.set_description(\n",
    "            f'Epoch: {i + 1}/{max_epochs}, batch: {batch_index} /{len(train_dl)} -  Train loss: {loss.item():.4f} | Train acc: {train_acc * 100:.2f}% | Test acc: {test_acc * 100:.2f}%')\n",
    "\n",
    "    with torch.no_grad():\n",
    "        for batch, (images_t, labels_t) in enumerate(test_dl):\n",
    "            images_t = images_t.to(device)\n",
    "            labels_t = labels_t.to(device)\n",
    "            outputs = model(images_t)\n",
    "\n",
    "            predicted_class_t = torch.argmax(outputs, dim=1)\n",
    "            test_acc = (predicted_class_t == labels_t).float().mean()\n",
    "            running_test_acc += test_acc.item()\n",
    "\n",
    "    train_accuracies.append(running_train_acc / len(train_dl))\n",
    "    test_accuracies.append(running_test_acc / len(test_dl))"
   ],
   "metadata": {
    "collapsed": false,
    "pycharm": {
     "name": "#%%\n"
    }
   }
  },
  {
   "cell_type": "code",
   "execution_count": 5,
   "outputs": [
    {
     "data": {
      "text/plain": "[<matplotlib.lines.Line2D at 0x19fee0e8490>]"
     },
     "execution_count": 5,
     "metadata": {},
     "output_type": "execute_result"
    },
    {
     "data": {
      "text/plain": "<Figure size 432x288 with 1 Axes>",
      "image/png": "[encoded data removed]"
     },
     "metadata": {
      "needs_background": "light"
     },
     "output_type": "display_data"
    }
   ],
   "source": [
    "plt.plot(training_losses, '.-')"
   ],
   "metadata": {
    "collapsed": false,
    "pycharm": {
     "name": "#%%\n"
    }
   }
  }
 ],
 "metadata": {
  "kernelspec": {
   "name": "pytorch",
   "language": "python",
   "display_name": "pytorch"
  },
  "language_info": {
   "codemirror_mode": {
    "name": "ipython",
    "version": 2
   },
   "file_extension": ".py",
   "mimetype": "text/x-python",
   "name": "python",
   "nbconvert_exporter": "python",
   "pygments_lexer": "ipython2",
   "version": "2.7.6"
  }
 },
 "nbformat": 4,
 "nbformat_minor": 0
}