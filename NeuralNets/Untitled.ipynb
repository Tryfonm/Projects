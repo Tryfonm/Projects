{
 "cells": [
  {
   "cell_type": "code",
   "execution_count": 1,
   "id": "aeccc9e3-2b36-4ba7-8a19-9b738c7711d7",
   "metadata": {},
   "outputs": [],
   "source": [
    "from tqdm import trange\n",
    "\n",
    "import torch\n",
    "import torch.nn as nn\n",
    "%matplotlib inline\n",
    "from torchvision import datasets, transforms\n",
    "from matplotlib import pyplot as plt\n",
    "# device = torch.device('cuda' if torch.cuda.is_available() else 'cpu')\n",
    "device = torch.device('cpu')"
   ]
  },
  {
   "cell_type": "code",
   "execution_count": 2,
   "id": "d5276d30-26fa-4863-b713-4321a869d927",
   "metadata": {},
   "outputs": [],
   "source": [
    "batch_size=64\n",
    "\n",
    "train_dataset = datasets.MNIST(root='./', download=True, train=True, transform=transforms.ToTensor())\n",
    "test_dataset = datasets.MNIST(root='./', download=True, train=False, transform=transforms.ToTensor())\n",
    "\n",
    "x_train = train_dataset.data.float()\n",
    "y_train = train_dataset.targets\n",
    "y_train_ohe = torch.nn.functional.one_hot(y_train)\n",
    "\n",
    "train_dl = torch.utils.data.DataLoader(dataset=train_dataset, batch_size=batch_size)\n",
    "test_dl = torch.utils.data.DataLoader(dataset=test_dataset, batch_size=batch_size)"
   ]
  },
  {
   "cell_type": "code",
   "execution_count": 3,
   "id": "8c554320-5b24-4574-9819-dbd9e3dc0e8d",
   "metadata": {},
   "outputs": [],
   "source": [
    "class VAE(nn.Module):\n",
    "    def __init__(self, hidden=5):\n",
    "        super().__init__()\n",
    "        self.hidden = hidden\n",
    "        self.encoder = nn.Sequential(\n",
    "            nn.Linear(784, self.hidden**2),\n",
    "            nn.ReLU(),\n",
    "            nn.Linear(self.hidden**2,self.hidden*2)\n",
    "            \n",
    "        )\n",
    "        self.decoder = nn.Sequential(\n",
    "            nn.Linear(self.hidden, self.hidden**2),\n",
    "            nn.ReLU(),\n",
    "            nn.Linear(self.hidden**2, 784),\n",
    "            nn.Sigmoid()\n",
    "        )\n",
    "    def param_trick(self, mu, var):\n",
    "        if self.training:\n",
    "            std = var.mul(1/2).exp_()\n",
    "            eps = std.data.new(std.size()).normal_()\n",
    "            return mu + (eps * std)\n",
    "        \n",
    "        else:\n",
    "            return mu\n",
    "        \n",
    "    def forward(self, x):\n",
    "\n",
    "        x = x.reshape(-1,784)\n",
    "        \n",
    "        # Feed through the encoder\n",
    "        x = self.encoder(x) # 1 x 10\n",
    "        x = x.reshape(-1, 2, self.hidden)\n",
    "        \n",
    "        mu = x[:,0, :]\n",
    "        var = x[:, 1, :]\n",
    "        # Sample z ~ mu + e*var\n",
    "        x = self.param_trick(mu, var)\n",
    "        return self.decoder(x)\n",
    "        \n",
    "#         mu_var = self.param_trick()\n",
    "        \n",
    "def loss_function(x_hat, x, mu, logvar):\n",
    "    BCE = nn.functional.binary_cross_entropy(x_hat, x.view(-1, 784), reduction='sum')\n",
    "    KLD = 0.5 * torch.sum(logvar.exp() - logvar - 1 + mu.pow(2))\n",
    "\n",
    "    return BCE + KLD"
   ]
  },
  {
   "cell_type": "code",
   "execution_count": 4,
   "id": "b2012d0a-04f2-4c48-a517-f451a773258c",
   "metadata": {},
   "outputs": [],
   "source": [
    "model = VAE(5)\n",
    "max_epochs = 10"
   ]
  },
  {
   "cell_type": "code",
   "execution_count": 5,
   "id": "e0b7442b-d9e9-444a-9d24-74e92479d05e",
   "metadata": {},
   "outputs": [
    {
     "data": {
      "text/plain": [
       "torch.Size([1, 784])"
      ]
     },
     "execution_count": 5,
     "metadata": {},
     "output_type": "execute_result"
    }
   ],
   "source": [
    "img = next(iter(train_dl))[0][0].reshape(28,28).to(device)\n",
    "output = model(img)\n",
    "output.shape"
   ]
  },
  {
   "cell_type": "code",
   "execution_count": 20,
   "id": "b0f26088-80a9-4fb4-9185-a0bf5bf3576e",
   "metadata": {
    "pycharm": {
     "name": "#%%\n"
    }
   },
   "outputs": [],
   "source": [
    "for image, label in train_dl:\n",
    "    output = model(image)\n",
    "    loss = loss_function()\n"
   ]
  }
 ],
 "metadata": {
  "kernelspec": {
   "display_name": "pytorch",
   "language": "python",
   "name": "pytorch"
  },
  "language_info": {
   "codemirror_mode": {
    "name": "ipython",
    "version": 3
   },
   "file_extension": ".py",
   "mimetype": "text/x-python",
   "name": "python",
   "nbconvert_exporter": "python",
   "pygments_lexer": "ipython3",
   "version": "3.8.8"
  }
 },
 "nbformat": 4,
 "nbformat_minor": 5
}