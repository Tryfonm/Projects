{
 "cells": [
  {
   "cell_type": "code",
   "execution_count": 1,
   "id": "5bce9779-af1b-4948-a829-cdf1ffed11ae",
   "metadata": {},
   "outputs": [],
   "source": [
    "import torch\n",
    "import torch.nn as nn\n",
    "import numpy as np"
   ]
  },
  {
   "cell_type": "markdown",
   "id": "7e6b3834-1c08-4261-815e-bc56f1457cf8",
   "metadata": {},
   "source": [
    "Consider the following output of a model for a batch of size 3 and the corresponding true labels."
   ]
  },
  {
   "cell_type": "code",
   "execution_count": 2,
   "id": "6cfbb5c4-a199-476f-8468-493e296d2cdd",
   "metadata": {},
   "outputs": [],
   "source": [
    "output = torch.tensor([\n",
    "    [3.2, 1.3, 0.2, 0.8],\n",
    "    [1.2, 4.1, 3.8, 0.1],\n",
    "    [3.3, 2.5, 1.9, 5.9]\n",
    "])\n",
    "\n",
    "target = torch.tensor([0,2,3]).long()"
   ]
  },
  {
   "attachments": {
    "888ddeb4-1d2f-43aa-8bc2-a2aa292b498e.png": {
     "image/png": "[encoded data removed]"
    },
    "9af4180b-3cba-4a1f-8afc-85768505fe58.png": {
     "image/png": "[encoded data removed]"
    },
    "eb00dfdb-8d46-4213-ac18-b64d5c3b96e1.png": {
     "image/png": "[encoded data removed]"
    }
   },
   "cell_type": "markdown",
   "id": "f14fb404-7af2-49a0-9843-600d028eac9b",
   "metadata": {},
   "source": [
    "--------------\n",
    "\n",
    "[Softmax wikipedia link](https://en.wikipedia.org/wiki/Softmax_function)\n",
    "\n",
    "![image.png](attachment:888ddeb4-1d2f-43aa-8bc2-a2aa292b498e.png)\n",
    "\n",
    "--------------\n",
    "\n",
    "[Log Softmax pytorch documentation link](https://pytorch.org/docs/stable/generated/torch.nn.LogSoftmax.html)\n",
    "<br>\n",
    "There are a number of advantages of using log softmax over softmax including practical reasons like improved [numerical performance](https://stats.stackexchange.com/questions/289369/log-probabilities-in-reference-to-softmax-classifier) and [gradient optimization](https://stats.stackexchange.com/questions/174481/why-to-optimize-max-log-probability-instead-of-probability). These advantages can be extremely important for implementation especially when training a model can be computationally challenging and expensive. At the heart of using log-softmax over softmax is the use of log probabilities over probabilities, which has nice information theoretic interpretations.\n",
    "\n",
    "When used for classifiers the log-softmax has the effect of heavily penalizing the model when it fails to predict a correct class. Whether or not that penalization works well for solving your problem is open to your testing, so both log-softmax and softmax are worth using.\n",
    "\n",
    "![image.png](attachment:eb00dfdb-8d46-4213-ac18-b64d5c3b96e1.png)\n",
    "\n",
    "--------------\n",
    "[Cross Entropy wikipedia link](https://en.wikipedia.org/wiki/Cross_entropy)\n",
    "\n",
    "![image.png](attachment:9af4180b-3cba-4a1f-8afc-85768505fe58.png)\n",
    "\n",
    "For single-label models CrossEntropy boils down to the following:\n",
    "<br>\n",
    "$\\;L\\; = - \\sum\\;Y\\; \\odot \\;\\log(\\hat{\\,Y\\,})\\;/\\; batch\\,size$ <br>\n",
    "\n",
    "where $Y$ is a one-hot-encoded representation of the true labels of size $ (batch\\,size \\;\\times\\; number\\,of\\,classes)$ <br>\n",
    "and $\\hat{Y}$ is a matrix of the same shape as $Y$ containing the predicted probabilities output by the model (squeezed through a softmax).\n",
    "\n",
    "#### The loss is then found by summing the elements of the resulting matrix $L$ and dividing with the number of data-instances of the batch (batch size).\n",
    "\n",
    "--------------"
   ]
  },
  {
   "cell_type": "code",
   "execution_count": 3,
   "id": "b1ecc9a9-2cc1-46b1-91a4-ae5ee61124b6",
   "metadata": {},
   "outputs": [],
   "source": [
    "def Softmax(x):\n",
    "    return (torch.exp(x).T / torch.sum(torch.exp(x), axis=1).T).T\n",
    "\n",
    "def logSoftmax(x):\n",
    "    return torch.log(Softmax(x))\n",
    "\n",
    "def CrossEntropy(Q, P):\n",
    "    batch_size = Q.shape[0]\n",
    "    num_of_classes = Q.shape[1]\n",
    "    P = torch.eye(num_of_classes)[P]\n",
    "    loss = - torch.sum(P * torch.log(Q)) / batch_size\n",
    "    return loss.item()"
   ]
  },
  {
   "cell_type": "code",
   "execution_count": 4,
   "id": "1d07b167-6ebd-4113-b4b8-333fb840ff55",
   "metadata": {},
   "outputs": [
    {
     "name": "stdout",
     "output_type": "stream",
     "text": [
      "Probabilities:\n",
      "tensor([[0.7751, 0.1159, 0.0386, 0.0703],\n",
      "        [0.0303, 0.5512, 0.4084, 0.0101],\n",
      "        [0.0660, 0.0296, 0.0163, 0.8881]])\n",
      "\n",
      "Log probabilities:\n",
      "tensor([[-0.2547, -2.1547, -3.2547, -2.6547],\n",
      "        [-3.4956, -0.5956, -0.8956, -4.5956],\n",
      "        [-2.7186, -3.5186, -4.1186, -0.1186]])\n",
      "\n",
      "CrossEntropy loss:\n",
      "0.42298611998558044\n"
     ]
    }
   ],
   "source": [
    "probs = Softmax(output)\n",
    "print(f'Probabilities:\\n{probs}')\n",
    "\n",
    "log_probs = logSoftmax(output)\n",
    "print(f'\\nLog probabilities:\\n{log_probs}')\n",
    "\n",
    "loss = CrossEntropy(probs, target)\n",
    "print(f'\\nCrossEntropy loss:\\n{loss}')"
   ]
  },
  {
   "cell_type": "markdown",
   "id": "730879d4-ce85-41d9-a5ae-81108c7f2288",
   "metadata": {},
   "source": [
    "--------\n",
    "### Comparing with pytorch's functions"
   ]
  },
  {
   "cell_type": "markdown",
   "id": "d406fbf5-6759-4fd1-bacb-dde91e985030",
   "metadata": {},
   "source": [
    "'nn.CrossEntropyLoss' takes in the raw output of the model and the target classes. The output is pushed through a softmax and then CrossEntropy is calculated"
   ]
  },
  {
   "cell_type": "code",
   "execution_count": 5,
   "id": "4f9c54d9-55ca-4116-a6e5-e10d293b952f",
   "metadata": {},
   "outputs": [
    {
     "data": {
      "text/plain": [
       "tensor(0.4230)"
      ]
     },
     "execution_count": 5,
     "metadata": {},
     "output_type": "execute_result"
    }
   ],
   "source": [
    "criterion = nn.CrossEntropyLoss()\n",
    "criterion(output, target)"
   ]
  },
  {
   "cell_type": "markdown",
   "id": "58c249f6-b5fe-4e39-906c-4c7356504dd1",
   "metadata": {},
   "source": [
    "The exact same result is obtained by passing in the log probabilities (logsoftmax) into Negative Log Likelihood function 'nn.NLLLoss'"
   ]
  },
  {
   "cell_type": "code",
   "execution_count": 6,
   "id": "38d471d3-f03b-4f23-9502-cbf646342b5c",
   "metadata": {},
   "outputs": [
    {
     "data": {
      "text/plain": [
       "tensor(0.4230)"
      ]
     },
     "execution_count": 6,
     "metadata": {},
     "output_type": "execute_result"
    }
   ],
   "source": [
    "nll = nn.NLLLoss()\n",
    "nll(log_probs, target)"
   ]
  }
 ],
 "metadata": {
  "kernelspec": {
   "display_name": "pytorch",
   "language": "python",
   "name": "pytorch"
  },
  "language_info": {
   "codemirror_mode": {
    "name": "ipython",
    "version": 3
   },
   "file_extension": ".py",
   "mimetype": "text/x-python",
   "name": "python",
   "nbconvert_exporter": "python",
   "pygments_lexer": "ipython3",
   "version": "3.8.8"
  }
 },
 "nbformat": 4,
 "nbformat_minor": 5
}
