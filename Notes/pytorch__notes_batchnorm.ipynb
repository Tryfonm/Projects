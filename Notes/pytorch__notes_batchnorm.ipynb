{
 "cells": [
  {
   "cell_type": "markdown",
   "id": "c01c8ada-fc98-490b-8074-c42bfb54c338",
   "metadata": {},
   "source": [
    "[Batch Normalization paper](https://arxiv.org/pdf/1502.03167v3.pdf) <br>\n",
    "[Group Normalization paper](https://arxiv.org/pdf/1803.08494.pdf)"
   ]
  },
  {
   "cell_type": "markdown",
   "id": "b4420566-f13e-407a-8f1e-9b2d1914505d",
   "metadata": {},
   "source": [
    "------------\n",
    "1-D case: Considering a batch of size 10 with 3 channels and $\\;8\\,\\times\\,8\\;$ dimensions (height x width):"
   ]
  },
  {
   "cell_type": "code",
   "execution_count": 1,
   "id": "aacae95e-356e-4b71-b9cd-60f1e2ca30e4",
   "metadata": {},
   "outputs": [],
   "source": [
    "import torch\n",
    "\n",
    "tensor = torch.randn(10, 3)\n",
    "batch_layer1 = torch.nn.BatchNorm1d(3)"
   ]
  },
  {
   "cell_type": "code",
   "execution_count": 2,
   "id": "3d41b339-16b9-4872-9917-84140458fa0b",
   "metadata": {},
   "outputs": [],
   "source": [
    "def my_batchnorm1d(tensor, epsilon=1e-05):\n",
    "    \"\"\"\n",
    "    Expects tensor of shape (batch_size, input_dimensionality)\n",
    "    \n",
    "    \"\"\"\n",
    "    tensor_mean = tensor.mean(0)\n",
    "    tensor_var = tensor.var(0, unbiased=False)\n",
    "    return (tensor - tensor_mean) / torch.sqrt(tensor_var + epsilon)"
   ]
  },
  {
   "cell_type": "code",
   "execution_count": 3,
   "id": "3978e8c6-42f1-4345-9977-2d6e56451848",
   "metadata": {},
   "outputs": [],
   "source": [
    "output = my_batchnorm1d(tensor)"
   ]
  },
  {
   "cell_type": "markdown",
   "id": "83fe8cb5-33df-4900-bf2f-9fd03baa1d47",
   "metadata": {},
   "source": [
    "#### Comparing with pytorch's implementation"
   ]
  },
  {
   "cell_type": "code",
   "execution_count": 4,
   "id": "9f8868cd-c114-4828-b045-2196e245d5a5",
   "metadata": {},
   "outputs": [
    {
     "data": {
      "text/plain": [
       "tensor(True)"
      ]
     },
     "execution_count": 4,
     "metadata": {},
     "output_type": "execute_result"
    }
   ],
   "source": [
    "import torch\n",
    "\n",
    "bn = torch.nn.BatchNorm1d(3)\n",
    "\n",
    "torch.isclose(output, bn(tensor)).all()"
   ]
  },
  {
   "cell_type": "markdown",
   "id": "9cb61716-f2e5-4618-a250-270b0723a64c",
   "metadata": {},
   "source": [
    "<br>\n",
    "\n",
    "------------\n",
    "### 2-D case\n",
    "Considering a batch of size 10 with 3 channels and $\\;8\\,\\times\\,8\\;$ dimensions (height x width):"
   ]
  },
  {
   "cell_type": "code",
   "execution_count": 5,
   "id": "5fca6d22-e578-4198-bc0b-f721501b86e1",
   "metadata": {},
   "outputs": [],
   "source": [
    "import torch\n",
    "\n",
    "batch_1 = torch.randn(10, 3, 8, 8)\n",
    "batch_2 = torch.randn(10, 3, 8, 8)\n",
    "batch_3 = torch.randn(10, 3, 8, 8)\n",
    "batches = [batch_1, batch_2, batch_3]  # Used in training mode\n",
    "batch_4 = torch.randn(10, 3, 8, 8)  # Used in eval mode"
   ]
  },
  {
   "cell_type": "code",
   "execution_count": 6,
   "id": "045ec1be-f08f-4e8f-af72-1501cc4cf619",
   "metadata": {},
   "outputs": [],
   "source": [
    "class BatchNorm2d():\n",
    "\n",
    "    def __init__(self, epsilon=1e-05, momentum=0.1):  # Using the same defaults as pytorch\n",
    "        \"\"\"\n",
    "        Expecting a tensor of shape (BS:[batch_size], C:[channels], H:[height], W:[width]).\n",
    "\n",
    "        \"\"\"\n",
    "        self.eval_mode = True\n",
    "        self.epsilon = epsilon\n",
    "        self.momentum = momentum\n",
    "        self.batches_processed_while_training = 0\n",
    "        self.running_mean = 0\n",
    "        self.running_var = 1.0\n",
    "\n",
    "    def forward(self, tensor):\n",
    "\n",
    "        if not self.eval_mode:  # TRAINING\n",
    "            self.C = tensor.shape[1]\n",
    "\n",
    "            # Mean over the batch (0), the height(2) and the width (3) --> Shape: (3,)\n",
    "            current_mean = tensor.mean((0, 2, 3))\n",
    "            \n",
    "             # Variance (biased) over the batch (0), the height(2) and the width (3) --> Shape: (3,)\n",
    "            current_var = tensor.var((0, 2, 3), unbiased=False)\n",
    "\n",
    "            # For running statistics the unbiased variance is used\n",
    "            current_var_unbiased = tensor.var((0, 2, 3), unbiased=True)\n",
    "            self.running_mean = (1 - self.momentum) * self.running_mean + (self.momentum * current_mean)\n",
    "            self.running_var = (1 - self.momentum) * self.running_var + (self.momentum * current_var_unbiased)\n",
    "\n",
    "            self.batches_processed_while_training += 1\n",
    "            # The one 1-d (singleton) vectors need to be reshaped to (C, 1, 1) so that broadcasting will work as expected.\n",
    "            return (tensor - current_mean.reshape(self.C, 1, 1)) / torch.sqrt(current_var.reshape(self.C, 1, 1) + self.epsilon)\n",
    "\n",
    "        else:\n",
    "\n",
    "            return (tensor - self.running_mean.reshape(self.C, 1, 1)) / torch.sqrt(self.running_var.reshape(self.C, 1, 1) + self.epsilon)\n",
    "\n",
    "    def __call__(self, tensor):\n",
    "        return self.forward(tensor)"
   ]
  },
  {
   "cell_type": "markdown",
   "id": "719ebafb-922e-469e-bcc3-30c333e32f5c",
   "metadata": {},
   "source": [
    "#### Train mode -  running estimate statistics are on"
   ]
  },
  {
   "cell_type": "code",
   "execution_count": 7,
   "id": "0dc9a009-5c5b-43ba-bb98-8ddd5e00eb05",
   "metadata": {},
   "outputs": [],
   "source": [
    "my_bn = BatchNorm2d(epsilon=1e-05, momentum=0.4)\n",
    "\n",
    "my_bn.eval_mode = False  # TRAINING\n",
    "my_outputs = []\n",
    "for index, batch in enumerate(batches):\n",
    "    my_outputs.append(my_bn(batch))"
   ]
  },
  {
   "cell_type": "code",
   "execution_count": 8,
   "id": "0ffac109-8685-4bbe-a702-6d60c47e18ec",
   "metadata": {},
   "outputs": [],
   "source": [
    "my_bn.eval_mode = True\n",
    "my_eval_output = my_bn(batch_4)"
   ]
  },
  {
   "cell_type": "markdown",
   "id": "c15ca4a8-c61d-4267-954e-42043c5b258f",
   "metadata": {},
   "source": [
    "#### Comparing with pytorch's implementation"
   ]
  },
  {
   "cell_type": "code",
   "execution_count": 9,
   "id": "30e5e137-e5e0-491a-9e19-5c51f4cffd12",
   "metadata": {},
   "outputs": [],
   "source": [
    "torch_bn = torch.nn.BatchNorm2d(3, momentum=0.4)\n",
    "\n",
    "torch_bn.train()  # TRAINING\n",
    "torch_outputs = []\n",
    "for index, batch in enumerate(batches):\n",
    "    torch_outputs.append(torch_bn(batch))"
   ]
  },
  {
   "cell_type": "code",
   "execution_count": 10,
   "id": "e67f1460-03b2-4c76-be40-09135866cf3a",
   "metadata": {},
   "outputs": [],
   "source": [
    "torch_bn.eval()\n",
    "torch_eval_output = torch_bn(batch_4)"
   ]
  },
  {
   "cell_type": "markdown",
   "id": "79d50226-3ea3-4743-9c11-2af18684c30b",
   "metadata": {},
   "source": [
    "#### Comparing Statistics after the training is over (the ones used in the final evaluation mode for each case):"
   ]
  },
  {
   "cell_type": "code",
   "execution_count": 11,
   "id": "9a002c8b-31ee-4e9d-916b-40ab6e805390",
   "metadata": {},
   "outputs": [
    {
     "name": "stdout",
     "output_type": "stream",
     "text": [
      "My implementation results:\n",
      "running mean: tensor([-0.0017,  0.0115,  0.0170]) | Running variance: tensor([1.0094, 0.9398, 0.9941])\n",
      "\n",
      "Torch results:\n",
      "running mean: tensor([-0.0017,  0.0115,  0.0170]) | Running variance: tensor([1.0094, 0.9398, 0.9941])\n"
     ]
    }
   ],
   "source": [
    "print(f'My implementation results:\\nrunning mean: {my_bn.running_mean} | Running variance: {my_bn.running_var}\\n')\n",
    "print(f'Torch results:\\nrunning mean: {torch_bn.running_mean} | Running variance: {torch_bn.running_var}')"
   ]
  },
  {
   "cell_type": "markdown",
   "id": "e1c4293a-054d-48d2-82fb-d06dd13c649d",
   "metadata": {},
   "source": [
    "<br>\n",
    "\n",
    "#### And finally comparing the resulting tensors\n",
    "- first three are used in training mode (running statistics are computed but not used)\n",
    "- last one is used in evaluation mode (running statistics are used)"
   ]
  },
  {
   "cell_type": "code",
   "execution_count": 12,
   "id": "eefcd2c1-7d73-46bb-90ed-8856b9d16f09",
   "metadata": {},
   "outputs": [
    {
     "name": "stdout",
     "output_type": "stream",
     "text": [
      "[tensor(True), tensor(True), tensor(True)]\n",
      "tensor(True)\n"
     ]
    }
   ],
   "source": [
    "print([torch.isclose(my_outputs[x], torch_outputs[x]).all() for x in range(3)])  # Train mode - output tensors comparison\n",
    "print(torch.isclose(my_eval_output, torch_eval_output).all())  # Eval mode - output tensor comparison"
   ]
  }
 ],
 "metadata": {
  "kernelspec": {
   "display_name": "pytorch",
   "language": "python",
   "name": "pytorch"
  },
  "language_info": {
   "codemirror_mode": {
    "name": "ipython",
    "version": 3
   },
   "file_extension": ".py",
   "mimetype": "text/x-python",
   "name": "python",
   "nbconvert_exporter": "python",
   "pygments_lexer": "ipython3",
   "version": "3.8.8"
  }
 },
 "nbformat": 4,
 "nbformat_minor": 5
}
